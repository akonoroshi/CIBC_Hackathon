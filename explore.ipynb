{
 "cells": [
  {
   "cell_type": "code",
   "execution_count": 416,
   "metadata": {
    "collapsed": true
   },
   "outputs": [],
   "source": [
    "import pandas as pd\n",
    "import matplotlib.pyplot as plt\n",
    "import numpy as np\n",
    "from sklearn.cluster import DBSCAN\n",
    "from sklearn.decomposition import PCA\n",
    "%matplotlib inline\n",
    "np.set_printoptions(suppress=True)"
   ]
  },
  {
   "cell_type": "code",
   "execution_count": 417,
   "metadata": {
    "collapsed": true
   },
   "outputs": [],
   "source": [
    "columns = ['patientFamilyID',\n",
    "           'paitientFamilyMemberID',\n",
    "           'providerID',\n",
    "           'providerType',\n",
    "           'stateCode',\n",
    "           'dateOfService',\n",
    "           'medicalProcedureCode',\n",
    "           'dollarAmountClaim']"
   ]
  },
  {
   "cell_type": "code",
   "execution_count": 418,
   "metadata": {},
   "outputs": [
    {
     "data": {
      "text/html": [
       "<div>\n",
       "<style scoped>\n",
       "    .dataframe tbody tr th:only-of-type {\n",
       "        vertical-align: middle;\n",
       "    }\n",
       "\n",
       "    .dataframe tbody tr th {\n",
       "        vertical-align: top;\n",
       "    }\n",
       "\n",
       "    .dataframe thead th {\n",
       "        text-align: right;\n",
       "    }\n",
       "</style>\n",
       "<table border=\"1\" class=\"dataframe\">\n",
       "  <thead>\n",
       "    <tr style=\"text-align: right;\">\n",
       "      <th></th>\n",
       "      <th>patientFamilyID</th>\n",
       "      <th>paitientFamilyMemberID</th>\n",
       "      <th>providerID</th>\n",
       "      <th>providerType</th>\n",
       "      <th>stateCode</th>\n",
       "      <th>dateOfService</th>\n",
       "      <th>medicalProcedureCode</th>\n",
       "      <th>dollarAmountClaim</th>\n",
       "    </tr>\n",
       "  </thead>\n",
       "  <tbody>\n",
       "    <tr>\n",
       "      <th>0</th>\n",
       "      <td>518632</td>\n",
       "      <td>0</td>\n",
       "      <td>9929</td>\n",
       "      <td>122398719</td>\n",
       "      <td>NY</td>\n",
       "      <td>20060719</td>\n",
       "      <td>282</td>\n",
       "      <td>707.08</td>\n",
       "    </tr>\n",
       "    <tr>\n",
       "      <th>1</th>\n",
       "      <td>327546</td>\n",
       "      <td>0</td>\n",
       "      <td>2299</td>\n",
       "      <td>122398719</td>\n",
       "      <td>NY</td>\n",
       "      <td>20060526</td>\n",
       "      <td>280</td>\n",
       "      <td>381.37</td>\n",
       "    </tr>\n",
       "    <tr>\n",
       "      <th>2</th>\n",
       "      <td>342944</td>\n",
       "      <td>5</td>\n",
       "      <td>5367</td>\n",
       "      <td>122398782</td>\n",
       "      <td>NY</td>\n",
       "      <td>20060817</td>\n",
       "      <td>1688</td>\n",
       "      <td>889.29</td>\n",
       "    </tr>\n",
       "    <tr>\n",
       "      <th>3</th>\n",
       "      <td>342944</td>\n",
       "      <td>5</td>\n",
       "      <td>5367</td>\n",
       "      <td>122398782</td>\n",
       "      <td>NY</td>\n",
       "      <td>20060717</td>\n",
       "      <td>1688</td>\n",
       "      <td>889.29</td>\n",
       "    </tr>\n",
       "    <tr>\n",
       "      <th>4</th>\n",
       "      <td>72526</td>\n",
       "      <td>0</td>\n",
       "      <td>9029</td>\n",
       "      <td>122398719</td>\n",
       "      <td>NY</td>\n",
       "      <td>20060221</td>\n",
       "      <td>562</td>\n",
       "      <td>1681.68</td>\n",
       "    </tr>\n",
       "  </tbody>\n",
       "</table>\n",
       "</div>"
      ],
      "text/plain": [
       "   patientFamilyID  paitientFamilyMemberID  providerID  providerType  \\\n",
       "0           518632                       0        9929     122398719   \n",
       "1           327546                       0        2299     122398719   \n",
       "2           342944                       5        5367     122398782   \n",
       "3           342944                       5        5367     122398782   \n",
       "4            72526                       0        9029     122398719   \n",
       "\n",
       "  stateCode  dateOfService  medicalProcedureCode  dollarAmountClaim  \n",
       "0        NY       20060719                   282             707.08  \n",
       "1        NY       20060526                   280             381.37  \n",
       "2        NY       20060817                  1688             889.29  \n",
       "3        NY       20060717                  1688             889.29  \n",
       "4        NY       20060221                   562            1681.68  "
      ]
     },
     "execution_count": 418,
     "metadata": {},
     "output_type": "execute_result"
    }
   ],
   "source": [
    "df = pd.read_csv(\"claims_final.csv\", names=columns)\n",
    "df.head()"
   ]
  },
  {
   "cell_type": "markdown",
   "metadata": {},
   "source": [
    "## Statistics to include in slides (Not ness. for analysis)"
   ]
  },
  {
   "cell_type": "code",
   "execution_count": 419,
   "metadata": {
    "scrolled": true
   },
   "outputs": [
    {
     "name": "stdout",
     "output_type": "stream",
     "text": [
      "Number of rows: 3497743\n"
     ]
    }
   ],
   "source": [
    "print('Number of rows:', len(df))"
   ]
  },
  {
   "cell_type": "code",
   "execution_count": 420,
   "metadata": {},
   "outputs": [
    {
     "name": "stdout",
     "output_type": "stream",
     "text": [
      "Number of unique values per column:\n"
     ]
    },
    {
     "data": {
      "text/plain": [
       "patientFamilyID           337203\n",
       "paitientFamilyMemberID        23\n",
       "providerID                 10025\n",
       "providerType                  13\n",
       "stateCode                      4\n",
       "dateOfService                360\n",
       "medicalProcedureCode        1520\n",
       "dollarAmountClaim          31394\n",
       "dtype: int64"
      ]
     },
     "execution_count": 420,
     "metadata": {},
     "output_type": "execute_result"
    }
   ],
   "source": [
    "# Checking number of unique values of each columns\n",
    "print(\"Number of unique values per column:\")\n",
    "df.T.apply(lambda x: x.nunique(), axis=1)"
   ]
  },
  {
   "cell_type": "code",
   "execution_count": 421,
   "metadata": {},
   "outputs": [
    {
     "name": "stdout",
     "output_type": "stream",
     "text": [
      "Value count of all provider types:\n"
     ]
    },
    {
     "data": {
      "text/plain": [
       "122398719    3240558\n",
       "122398807      67712\n",
       "122398794      56374\n",
       "122398782      45188\n",
       "122398769      38308\n",
       "122401188      20784\n",
       "122399961       9569\n",
       "122398744       9537\n",
       "122398832       5101\n",
       "122398857       3480\n",
       "122398819        814\n",
       "122398757        288\n",
       "122398732         30\n",
       "Name: providerType, dtype: int64"
      ]
     },
     "execution_count": 421,
     "metadata": {},
     "output_type": "execute_result"
    }
   ],
   "source": [
    "print('Value count of all provider types:')\n",
    "df['providerType'].value_counts()"
   ]
  },
  {
   "cell_type": "code",
   "execution_count": 422,
   "metadata": {},
   "outputs": [],
   "source": [
    "# Medical Procedure Code is not unique to provider type\n",
    "# i.e. different provider types can offer the same medical procedure\n",
    "# amount claim is normalized with respect to the procedure code and provider type\n",
    "# if it was normalized to purely itself, then it doesn't capture that some procedures should cost different than others\n",
    "# if it was normalized only to procedure, the same procedure offered by different providers could cost drastically different\n",
    "\n",
    "df['provider_medical_concat'] = df['providerType'].astype(str).str.cat(df['medicalProcedureCode'].astype(str))"
   ]
  },
  {
   "cell_type": "code",
   "execution_count": 423,
   "metadata": {},
   "outputs": [
    {
     "data": {
      "text/html": [
       "<div>\n",
       "<style scoped>\n",
       "    .dataframe tbody tr th:only-of-type {\n",
       "        vertical-align: middle;\n",
       "    }\n",
       "\n",
       "    .dataframe tbody tr th {\n",
       "        vertical-align: top;\n",
       "    }\n",
       "\n",
       "    .dataframe thead th {\n",
       "        text-align: right;\n",
       "    }\n",
       "</style>\n",
       "<table border=\"1\" class=\"dataframe\">\n",
       "  <thead>\n",
       "    <tr style=\"text-align: right;\">\n",
       "      <th></th>\n",
       "      <th>patientFamilyID</th>\n",
       "      <th>paitientFamilyMemberID</th>\n",
       "      <th>providerID</th>\n",
       "      <th>providerType</th>\n",
       "      <th>stateCode</th>\n",
       "      <th>dateOfService</th>\n",
       "      <th>medicalProcedureCode</th>\n",
       "      <th>dollarAmountClaim</th>\n",
       "      <th>provider_medical_concat</th>\n",
       "      <th>value_pm_normed</th>\n",
       "    </tr>\n",
       "  </thead>\n",
       "  <tbody>\n",
       "    <tr>\n",
       "      <th>0</th>\n",
       "      <td>518632</td>\n",
       "      <td>0</td>\n",
       "      <td>9929</td>\n",
       "      <td>122398719</td>\n",
       "      <td>NY</td>\n",
       "      <td>20060719</td>\n",
       "      <td>282</td>\n",
       "      <td>707.08</td>\n",
       "      <td>122398719282</td>\n",
       "      <td>0.235735</td>\n",
       "    </tr>\n",
       "    <tr>\n",
       "      <th>1</th>\n",
       "      <td>327546</td>\n",
       "      <td>0</td>\n",
       "      <td>2299</td>\n",
       "      <td>122398719</td>\n",
       "      <td>NY</td>\n",
       "      <td>20060526</td>\n",
       "      <td>280</td>\n",
       "      <td>381.37</td>\n",
       "      <td>122398719280</td>\n",
       "      <td>-0.253686</td>\n",
       "    </tr>\n",
       "    <tr>\n",
       "      <th>2</th>\n",
       "      <td>342944</td>\n",
       "      <td>5</td>\n",
       "      <td>5367</td>\n",
       "      <td>122398782</td>\n",
       "      <td>NY</td>\n",
       "      <td>20060817</td>\n",
       "      <td>1688</td>\n",
       "      <td>889.29</td>\n",
       "      <td>1223987821688</td>\n",
       "      <td>-0.851157</td>\n",
       "    </tr>\n",
       "    <tr>\n",
       "      <th>3</th>\n",
       "      <td>342944</td>\n",
       "      <td>5</td>\n",
       "      <td>5367</td>\n",
       "      <td>122398782</td>\n",
       "      <td>NY</td>\n",
       "      <td>20060717</td>\n",
       "      <td>1688</td>\n",
       "      <td>889.29</td>\n",
       "      <td>1223987821688</td>\n",
       "      <td>-0.851157</td>\n",
       "    </tr>\n",
       "    <tr>\n",
       "      <th>4</th>\n",
       "      <td>72526</td>\n",
       "      <td>0</td>\n",
       "      <td>9029</td>\n",
       "      <td>122398719</td>\n",
       "      <td>NY</td>\n",
       "      <td>20060221</td>\n",
       "      <td>562</td>\n",
       "      <td>1681.68</td>\n",
       "      <td>122398719562</td>\n",
       "      <td>0.750598</td>\n",
       "    </tr>\n",
       "  </tbody>\n",
       "</table>\n",
       "</div>"
      ],
      "text/plain": [
       "   patientFamilyID  paitientFamilyMemberID  providerID  providerType  \\\n",
       "0           518632                       0        9929     122398719   \n",
       "1           327546                       0        2299     122398719   \n",
       "2           342944                       5        5367     122398782   \n",
       "3           342944                       5        5367     122398782   \n",
       "4            72526                       0        9029     122398719   \n",
       "\n",
       "  stateCode  dateOfService  medicalProcedureCode  dollarAmountClaim  \\\n",
       "0        NY       20060719                   282             707.08   \n",
       "1        NY       20060526                   280             381.37   \n",
       "2        NY       20060817                  1688             889.29   \n",
       "3        NY       20060717                  1688             889.29   \n",
       "4        NY       20060221                   562            1681.68   \n",
       "\n",
       "  provider_medical_concat  value_pm_normed  \n",
       "0            122398719282         0.235735  \n",
       "1            122398719280        -0.253686  \n",
       "2           1223987821688        -0.851157  \n",
       "3           1223987821688        -0.851157  \n",
       "4            122398719562         0.750598  "
      ]
     },
     "execution_count": 423,
     "metadata": {},
     "output_type": "execute_result"
    }
   ],
   "source": [
    "df['value_pm_normed'] = df.groupby('provider_medical_concat', group_keys=False)\\\n",
    "    .apply(lambda g: (g['dollarAmountClaim'] - g['dollarAmountClaim'].mean()) / g['dollarAmountClaim'].std())\n",
    "# df['value_m_normed'] = df.groupby('medicalProcedureCode', group_keys=False)\\\n",
    "#     .apply(lambda g: (g['dollarAmountClaim'] - g['dollarAmountClaim'].mean()) / g['dollarAmountClaim'].std())\n",
    "df.head()"
   ]
  },
  {
   "cell_type": "code",
   "execution_count": 424,
   "metadata": {
    "collapsed": true
   },
   "outputs": [],
   "source": [
    "# Unique Paitient ID\n",
    "df['paitientID'] = df['patientFamilyID'].astype(str) + '-' + df['paitientFamilyMemberID'].astype(str)"
   ]
  },
  {
   "cell_type": "code",
   "execution_count": 425,
   "metadata": {
    "scrolled": true
   },
   "outputs": [
    {
     "data": {
      "text/html": [
       "<div>\n",
       "<style scoped>\n",
       "    .dataframe tbody tr th:only-of-type {\n",
       "        vertical-align: middle;\n",
       "    }\n",
       "\n",
       "    .dataframe tbody tr th {\n",
       "        vertical-align: top;\n",
       "    }\n",
       "\n",
       "    .dataframe thead th {\n",
       "        text-align: right;\n",
       "    }\n",
       "</style>\n",
       "<table border=\"1\" class=\"dataframe\">\n",
       "  <thead>\n",
       "    <tr style=\"text-align: right;\">\n",
       "      <th></th>\n",
       "      <th>patientFamilyID</th>\n",
       "      <th>paitientFamilyMemberID</th>\n",
       "      <th>providerID</th>\n",
       "      <th>providerType</th>\n",
       "      <th>stateCode</th>\n",
       "      <th>dateOfService</th>\n",
       "      <th>medicalProcedureCode</th>\n",
       "      <th>dollarAmountClaim</th>\n",
       "      <th>provider_medical_concat</th>\n",
       "      <th>value_pm_normed</th>\n",
       "      <th>paitientID</th>\n",
       "    </tr>\n",
       "  </thead>\n",
       "  <tbody>\n",
       "    <tr>\n",
       "      <th>0</th>\n",
       "      <td>518632</td>\n",
       "      <td>0</td>\n",
       "      <td>9929</td>\n",
       "      <td>122398719</td>\n",
       "      <td>NY</td>\n",
       "      <td>20060719</td>\n",
       "      <td>282</td>\n",
       "      <td>707.08</td>\n",
       "      <td>122398719282</td>\n",
       "      <td>0.235735</td>\n",
       "      <td>518632-0</td>\n",
       "    </tr>\n",
       "    <tr>\n",
       "      <th>1</th>\n",
       "      <td>327546</td>\n",
       "      <td>0</td>\n",
       "      <td>2299</td>\n",
       "      <td>122398719</td>\n",
       "      <td>NY</td>\n",
       "      <td>20060526</td>\n",
       "      <td>280</td>\n",
       "      <td>381.37</td>\n",
       "      <td>122398719280</td>\n",
       "      <td>-0.253686</td>\n",
       "      <td>327546-0</td>\n",
       "    </tr>\n",
       "    <tr>\n",
       "      <th>2</th>\n",
       "      <td>342944</td>\n",
       "      <td>5</td>\n",
       "      <td>5367</td>\n",
       "      <td>122398782</td>\n",
       "      <td>NY</td>\n",
       "      <td>20060817</td>\n",
       "      <td>1688</td>\n",
       "      <td>889.29</td>\n",
       "      <td>1223987821688</td>\n",
       "      <td>-0.851157</td>\n",
       "      <td>342944-5</td>\n",
       "    </tr>\n",
       "    <tr>\n",
       "      <th>3</th>\n",
       "      <td>342944</td>\n",
       "      <td>5</td>\n",
       "      <td>5367</td>\n",
       "      <td>122398782</td>\n",
       "      <td>NY</td>\n",
       "      <td>20060717</td>\n",
       "      <td>1688</td>\n",
       "      <td>889.29</td>\n",
       "      <td>1223987821688</td>\n",
       "      <td>-0.851157</td>\n",
       "      <td>342944-5</td>\n",
       "    </tr>\n",
       "    <tr>\n",
       "      <th>4</th>\n",
       "      <td>72526</td>\n",
       "      <td>0</td>\n",
       "      <td>9029</td>\n",
       "      <td>122398719</td>\n",
       "      <td>NY</td>\n",
       "      <td>20060221</td>\n",
       "      <td>562</td>\n",
       "      <td>1681.68</td>\n",
       "      <td>122398719562</td>\n",
       "      <td>0.750598</td>\n",
       "      <td>72526-0</td>\n",
       "    </tr>\n",
       "  </tbody>\n",
       "</table>\n",
       "</div>"
      ],
      "text/plain": [
       "   patientFamilyID  paitientFamilyMemberID  providerID  providerType  \\\n",
       "0           518632                       0        9929     122398719   \n",
       "1           327546                       0        2299     122398719   \n",
       "2           342944                       5        5367     122398782   \n",
       "3           342944                       5        5367     122398782   \n",
       "4            72526                       0        9029     122398719   \n",
       "\n",
       "  stateCode  dateOfService  medicalProcedureCode  dollarAmountClaim  \\\n",
       "0        NY       20060719                   282             707.08   \n",
       "1        NY       20060526                   280             381.37   \n",
       "2        NY       20060817                  1688             889.29   \n",
       "3        NY       20060717                  1688             889.29   \n",
       "4        NY       20060221                   562            1681.68   \n",
       "\n",
       "  provider_medical_concat  value_pm_normed paitientID  \n",
       "0            122398719282         0.235735   518632-0  \n",
       "1            122398719280        -0.253686   327546-0  \n",
       "2           1223987821688        -0.851157   342944-5  \n",
       "3           1223987821688        -0.851157   342944-5  \n",
       "4            122398719562         0.750598    72526-0  "
      ]
     },
     "execution_count": 425,
     "metadata": {},
     "output_type": "execute_result"
    }
   ],
   "source": [
    "df.head()"
   ]
  },
  {
   "cell_type": "markdown",
   "metadata": {},
   "source": [
    "# Outlier code"
   ]
  },
  {
   "cell_type": "code",
   "execution_count": 426,
   "metadata": {
    "collapsed": true
   },
   "outputs": [],
   "source": [
    "# Base columns that are selected to help features to be engineered\n",
    "potential_features = ['providerID',\n",
    "                      'patientFamilyID',\n",
    "                      'paitientID',\n",
    "                      'value_pm_normed']"
   ]
  },
  {
   "cell_type": "code",
   "execution_count": 427,
   "metadata": {
    "scrolled": true
   },
   "outputs": [
    {
     "name": "stderr",
     "output_type": "stream",
     "text": [
      "/anaconda/lib/python3.6/site-packages/ipykernel_launcher.py:2: SettingWithCopyWarning: \n",
      "A value is trying to be set on a copy of a slice from a DataFrame.\n",
      "Try using .loc[row_indexer,col_indexer] = value instead\n",
      "\n",
      "See the caveats in the documentation: http://pandas.pydata.org/pandas-docs/stable/indexing.html#indexing-view-versus-copy\n",
      "  \n"
     ]
    }
   ],
   "source": [
    "df_snip = df[potential_features]\n",
    "df_snip['count'] = 1"
   ]
  },
  {
   "cell_type": "markdown",
   "metadata": {},
   "source": [
    "## Feature Engineering"
   ]
  },
  {
   "cell_type": "code",
   "execution_count": 428,
   "metadata": {},
   "outputs": [
    {
     "data": {
      "text/html": [
       "<div>\n",
       "<style scoped>\n",
       "    .dataframe tbody tr th:only-of-type {\n",
       "        vertical-align: middle;\n",
       "    }\n",
       "\n",
       "    .dataframe tbody tr th {\n",
       "        vertical-align: top;\n",
       "    }\n",
       "\n",
       "    .dataframe thead th {\n",
       "        text-align: right;\n",
       "    }\n",
       "</style>\n",
       "<table border=\"1\" class=\"dataframe\">\n",
       "  <thead>\n",
       "    <tr style=\"text-align: right;\">\n",
       "      <th></th>\n",
       "      <th>uniquePaitients</th>\n",
       "      <th>value_pm_normed</th>\n",
       "      <th>uniqueFamilies</th>\n",
       "      <th>count</th>\n",
       "    </tr>\n",
       "    <tr>\n",
       "      <th>providerID</th>\n",
       "      <th></th>\n",
       "      <th></th>\n",
       "      <th></th>\n",
       "      <th></th>\n",
       "    </tr>\n",
       "  </thead>\n",
       "  <tbody>\n",
       "    <tr>\n",
       "      <th>1</th>\n",
       "      <td>1</td>\n",
       "      <td>1.126940</td>\n",
       "      <td>1</td>\n",
       "      <td>1</td>\n",
       "    </tr>\n",
       "    <tr>\n",
       "      <th>3</th>\n",
       "      <td>29</td>\n",
       "      <td>-0.355237</td>\n",
       "      <td>16</td>\n",
       "      <td>130</td>\n",
       "    </tr>\n",
       "    <tr>\n",
       "      <th>6</th>\n",
       "      <td>5</td>\n",
       "      <td>0.314496</td>\n",
       "      <td>4</td>\n",
       "      <td>18</td>\n",
       "    </tr>\n",
       "    <tr>\n",
       "      <th>7</th>\n",
       "      <td>16</td>\n",
       "      <td>0.035149</td>\n",
       "      <td>15</td>\n",
       "      <td>53</td>\n",
       "    </tr>\n",
       "    <tr>\n",
       "      <th>11</th>\n",
       "      <td>16</td>\n",
       "      <td>0.367385</td>\n",
       "      <td>11</td>\n",
       "      <td>56</td>\n",
       "    </tr>\n",
       "  </tbody>\n",
       "</table>\n",
       "</div>"
      ],
      "text/plain": [
       "            uniquePaitients  value_pm_normed  uniqueFamilies  count\n",
       "providerID                                                         \n",
       "1                         1         1.126940               1      1\n",
       "3                        29        -0.355237              16    130\n",
       "6                         5         0.314496               4     18\n",
       "7                        16         0.035149              15     53\n",
       "11                       16         0.367385              11     56"
      ]
     },
     "execution_count": 428,
     "metadata": {},
     "output_type": "execute_result"
    }
   ],
   "source": [
    "# Aggregating\n",
    "\n",
    "f = {'paitientID': 'nunique',\n",
    "     'value_pm_normed': 'sum',\n",
    "     'patientFamilyID': 'nunique',\n",
    "     'count': 'sum'}\n",
    "\n",
    "# Renaming\n",
    "\n",
    "rename_cols = {\n",
    "    'paitientID': 'uniquePaitients',\n",
    "    'patientFamilyID': 'uniqueFamilies',\n",
    "}\n",
    "\n",
    "df_agg = df_snip.groupby('providerID').agg(f)\n",
    "df_agg = df_agg.rename(columns=rename_cols)\n",
    "\n",
    "df_agg['value_pm_normed'] = df_agg['value_pm_normed'] / df_agg['count']\n",
    "\n",
    "# Doctors with less than 5 counts are ignored\n",
    "# Need to focus on having low false positives\n",
    "# Even though if it means having higher false negatives\n",
    "# Will manually review the counts later\n",
    "#df_agg = df_agg[df_agg['count'] > 5]\n",
    "\n",
    "df_agg.head()"
   ]
  },
  {
   "cell_type": "code",
   "execution_count": 429,
   "metadata": {},
   "outputs": [],
   "source": [
    "# Normalizing\n",
    "# Apply logarithm to convert distribution to look more like normal distribution\n",
    "df_agg['countLog'] = df_agg['count'].apply(np.log)\n",
    "# Normalizing\n",
    "df_agg['countLogNormed'] = (df_agg['countLog'] - df_agg['countLog'].mean()) / df_agg['countLog'].std()\n",
    "\n",
    "percent_norm_cols = ['uniquePaitients', 'uniqueFamilies']\n",
    "for col in percent_norm_cols:\n",
    "    temp = df_agg[col] / df_agg['count']\n",
    "    df_agg[col+'Norm'] = (temp - temp.mean()) / temp.std()"
   ]
  },
  {
   "cell_type": "code",
   "execution_count": 430,
   "metadata": {},
   "outputs": [],
   "source": [
    "#Dropping columns\n",
    "drop_cols = ['count', 'countLog'] + percent_norm_cols\n",
    "df_agg = df_agg.drop(drop_cols, axis=1)"
   ]
  },
  {
   "cell_type": "code",
   "execution_count": 431,
   "metadata": {},
   "outputs": [
    {
     "data": {
      "text/html": [
       "<div>\n",
       "<style scoped>\n",
       "    .dataframe tbody tr th:only-of-type {\n",
       "        vertical-align: middle;\n",
       "    }\n",
       "\n",
       "    .dataframe tbody tr th {\n",
       "        vertical-align: top;\n",
       "    }\n",
       "\n",
       "    .dataframe thead th {\n",
       "        text-align: right;\n",
       "    }\n",
       "</style>\n",
       "<table border=\"1\" class=\"dataframe\">\n",
       "  <thead>\n",
       "    <tr style=\"text-align: right;\">\n",
       "      <th></th>\n",
       "      <th>value_pm_normed</th>\n",
       "      <th>countLogNormed</th>\n",
       "      <th>uniquePaitientsNorm</th>\n",
       "      <th>uniqueFamiliesNorm</th>\n",
       "    </tr>\n",
       "    <tr>\n",
       "      <th>providerID</th>\n",
       "      <th></th>\n",
       "      <th></th>\n",
       "      <th></th>\n",
       "      <th></th>\n",
       "    </tr>\n",
       "  </thead>\n",
       "  <tbody>\n",
       "    <tr>\n",
       "      <th>1</th>\n",
       "      <td>1.126940</td>\n",
       "      <td>-2.554755</td>\n",
       "      <td>4.269876</td>\n",
       "      <td>4.257524</td>\n",
       "    </tr>\n",
       "    <tr>\n",
       "      <th>3</th>\n",
       "      <td>-0.355237</td>\n",
       "      <td>0.097653</td>\n",
       "      <td>-0.179894</td>\n",
       "      <td>-0.484491</td>\n",
       "    </tr>\n",
       "    <tr>\n",
       "      <th>6</th>\n",
       "      <td>0.314496</td>\n",
       "      <td>-0.979739</td>\n",
       "      <td>0.133401</td>\n",
       "      <td>0.051643</td>\n",
       "    </tr>\n",
       "    <tr>\n",
       "      <th>7</th>\n",
       "      <td>0.035149</td>\n",
       "      <td>-0.391270</td>\n",
       "      <td>0.271484</td>\n",
       "      <td>0.380404</td>\n",
       "    </tr>\n",
       "    <tr>\n",
       "      <th>11</th>\n",
       "      <td>0.367385</td>\n",
       "      <td>-0.361267</td>\n",
       "      <td>0.178857</td>\n",
       "      <td>-0.087838</td>\n",
       "    </tr>\n",
       "  </tbody>\n",
       "</table>\n",
       "</div>"
      ],
      "text/plain": [
       "            value_pm_normed  countLogNormed  uniquePaitientsNorm  \\\n",
       "providerID                                                         \n",
       "1                  1.126940       -2.554755             4.269876   \n",
       "3                 -0.355237        0.097653            -0.179894   \n",
       "6                  0.314496       -0.979739             0.133401   \n",
       "7                  0.035149       -0.391270             0.271484   \n",
       "11                 0.367385       -0.361267             0.178857   \n",
       "\n",
       "            uniqueFamiliesNorm  \n",
       "providerID                      \n",
       "1                     4.257524  \n",
       "3                    -0.484491  \n",
       "6                     0.051643  \n",
       "7                     0.380404  \n",
       "11                   -0.087838  "
      ]
     },
     "execution_count": 431,
     "metadata": {},
     "output_type": "execute_result"
    }
   ],
   "source": [
    "X_train = df_agg.get_values()\n",
    "df_agg.head()"
   ]
  },
  {
   "cell_type": "code",
   "execution_count": 432,
   "metadata": {},
   "outputs": [],
   "source": [
    "# Applying PCA\n",
    "pca = PCA(n_components=2)\n",
    "x_reduced = pca.fit_transform(X_train)"
   ]
  },
  {
   "cell_type": "code",
   "execution_count": 434,
   "metadata": {},
   "outputs": [
    {
     "data": {
      "text/plain": [
       "<matplotlib.text.Text at 0x16297f588>"
      ]
     },
     "execution_count": 434,
     "metadata": {},
     "output_type": "execute_result"
    },
    {
     "data": {
      "image/png": "[encoded data removed]",
      "text/plain": [
       "<matplotlib.figure.Figure at 0x16298dbe0>"
      ]
     },
     "metadata": {},
     "output_type": "display_data"
    }
   ],
   "source": [
    "plt.figure(figsize=(8, 8), dpi=80)\n",
    "plt.scatter(x_reduced[:,0], x_reduced[:,1], s = 2)\n",
    "plt.xlabel('PCA Axis 1')\n",
    "plt.ylabel('PCA Axis 2')\n",
    "plt.title('PCA (2 Components)')"
   ]
  },
  {
   "cell_type": "markdown",
   "metadata": {},
   "source": [
    "## Modelling"
   ]
  },
  {
   "cell_type": "code",
   "execution_count": 436,
   "metadata": {},
   "outputs": [
    {
     "data": {
      "text/plain": [
       "GaussianMixture(covariance_type='full', init_params='kmeans', max_iter=100,\n",
       "        means_init=None, n_components=2, n_init=1, precisions_init=None,\n",
       "        random_state=None, reg_covar=1e-06, tol=0.001, verbose=0,\n",
       "        verbose_interval=10, warm_start=False, weights_init=None)"
      ]
     },
     "execution_count": 436,
     "metadata": {},
     "output_type": "execute_result"
    }
   ],
   "source": [
    "# fit a Gaussian Mixture Model with two components\n",
    "clf = mixture.GaussianMixture(n_components=2, covariance_type='full')\n",
    "clf.fit(X_train)"
   ]
  },
  {
   "cell_type": "code",
   "execution_count": 437,
   "metadata": {},
   "outputs": [
    {
     "data": {
      "image/png": "[encoded data removed]",
      "text/plain": [
       "<matplotlib.figure.Figure at 0x1937eccf8>"
      ]
     },
     "metadata": {},
     "output_type": "display_data"
    }
   ],
   "source": [
    "# PCF gaussian mixture (for visualization)\n",
    "clf_v = mixture.GaussianMixture(n_components=2, covariance_type='full')\n",
    "clf_v.fit(x_reduced)\n",
    "# display predicted scores by the model as a contour plot\n",
    "x = np.linspace(-4., 4.)\n",
    "y = np.linspace(-4., 4.)\n",
    "X, Y = np.meshgrid(x, y)\n",
    "XX = np.array([X.ravel(), Y.ravel()]).T\n",
    "Z = -clf_v.score_samples(XX)\n",
    "Z = Z.reshape(X.shape)\n",
    "plt.figure(figsize=(8, 8), dpi=80)\n",
    "CS = plt.contour(X, Y, Z, norm=LogNorm(vmin=1.0, vmax=1000.0),\n",
    "                 levels=np.logspace(0, 3, 10))\n",
    "\n",
    "plt.scatter(x_reduced[:,0], x_reduced[:,1], s = 2)\n",
    "plt.xlabel('PCA Axis 1')\n",
    "plt.ylabel('PCA Axis 2')\n",
    "plt.title('PCA (2 Components)')\n",
    "\n",
    "plt.title('Negative log-likelihood predicted by a GMM')\n",
    "plt.axis('tight')\n",
    "plt.show()"
   ]
  },
  {
   "cell_type": "code",
   "execution_count": 458,
   "metadata": {},
   "outputs": [],
   "source": [
    "proba = np.max(clf.predict_proba(X_train), axis=1)\n",
    "temp = proba.argsort()\n",
    "ranks = np.empty_like(temp)\n",
    "ranks[temp] = np.arange(len(proba))"
   ]
  },
  {
   "cell_type": "code",
   "execution_count": 459,
   "metadata": {
    "scrolled": true
   },
   "outputs": [],
   "source": [
    "df_agg = df_agg.reset_index()\n",
    "df_agg['rank'] = pd.Series(ranks) + 1"
   ]
  },
  {
   "cell_type": "code",
   "execution_count": 460,
   "metadata": {
    "scrolled": true
   },
   "outputs": [],
   "source": [
    "dout = df_agg[['providerID', 'rank']].copy()\n",
    "dout = dout.sort_values('rank')\n",
    "dout.to_csv('file1.csv', header=False, index=False)"
   ]
  },
  {
   "cell_type": "code",
   "execution_count": 202,
   "metadata": {
    "scrolled": true
   },
   "outputs": [
    {
     "data": {
      "text/html": [
       "<div>\n",
       "<style scoped>\n",
       "    .dataframe tbody tr th:only-of-type {\n",
       "        vertical-align: middle;\n",
       "    }\n",
       "\n",
       "    .dataframe tbody tr th {\n",
       "        vertical-align: top;\n",
       "    }\n",
       "\n",
       "    .dataframe thead th {\n",
       "        text-align: right;\n",
       "    }\n",
       "</style>\n",
       "<table border=\"1\" class=\"dataframe\">\n",
       "  <thead>\n",
       "    <tr style=\"text-align: right;\">\n",
       "      <th></th>\n",
       "      <th>value_pm_normed</th>\n",
       "      <th>count_log_normed</th>\n",
       "      <th>cluster_count_normalized</th>\n",
       "    </tr>\n",
       "    <tr>\n",
       "      <th>cluster_label</th>\n",
       "      <th></th>\n",
       "      <th></th>\n",
       "      <th></th>\n",
       "    </tr>\n",
       "  </thead>\n",
       "  <tbody>\n",
       "    <tr>\n",
       "      <th>-1</th>\n",
       "      <td>-0.753288</td>\n",
       "      <td>-0.732344</td>\n",
       "      <td>162</td>\n",
       "    </tr>\n",
       "    <tr>\n",
       "      <th>0</th>\n",
       "      <td>-0.054084</td>\n",
       "      <td>0.038814</td>\n",
       "      <td>8945</td>\n",
       "    </tr>\n",
       "    <tr>\n",
       "      <th>1</th>\n",
       "      <td>0.127926</td>\n",
       "      <td>-2.164169</td>\n",
       "      <td>86</td>\n",
       "    </tr>\n",
       "    <tr>\n",
       "      <th>2</th>\n",
       "      <td>-0.836811</td>\n",
       "      <td>-2.164169</td>\n",
       "      <td>10</td>\n",
       "    </tr>\n",
       "    <tr>\n",
       "      <th>3</th>\n",
       "      <td>-1.207721</td>\n",
       "      <td>-2.164169</td>\n",
       "      <td>6</td>\n",
       "    </tr>\n",
       "    <tr>\n",
       "      <th>4</th>\n",
       "      <td>-1.580821</td>\n",
       "      <td>-1.562003</td>\n",
       "      <td>5</td>\n",
       "    </tr>\n",
       "  </tbody>\n",
       "</table>\n",
       "</div>"
      ],
      "text/plain": [
       "               value_pm_normed  count_log_normed  cluster_count_normalized\n",
       "cluster_label                                                             \n",
       "-1                   -0.753288         -0.732344                       162\n",
       " 0                   -0.054084          0.038814                      8945\n",
       " 1                    0.127926         -2.164169                        86\n",
       " 2                   -0.836811         -2.164169                        10\n",
       " 3                   -1.207721         -2.164169                         6\n",
       " 4                   -1.580821         -1.562003                         5"
      ]
     },
     "execution_count": 202,
     "metadata": {},
     "output_type": "execute_result"
    }
   ],
   "source": [
    "# Experimental, add to it later\n",
    "DBS = DBSCAN(eps=0.1)\n",
    "y_pred_dbs = DBS.fit_predict(x_new)\n",
    "df_agg['cluster_label'] = y_pred_dbs\n",
    "db_out = df_agg.groupby(by='cluster_label').mean()\n",
    "db_out['cluster_count_normalized'] = pd.Series(y_pred_dbs).value_counts()\n",
    "db_out"
   ]
  }
 ],
 "metadata": {
  "kernelspec": {
   "display_name": "Python 3",
   "language": "python",
   "name": "python3"
  },
  "language_info": {
   "codemirror_mode": {
    "name": "ipython",
    "version": 3
   },
   "file_extension": ".py",
   "mimetype": "text/x-python",
   "name": "python",
   "nbconvert_exporter": "python",
   "pygments_lexer": "ipython3",
   "version": "3.6.5"
  }
 },
 "nbformat": 4,
 "nbformat_minor": 2
}
